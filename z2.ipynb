{
 "cells": [
  {
   "cell_type": "raw",
   "id": "a179966d",
   "metadata": {},
   "source": [
    "---\n",
    "title: 1 a short title. \n",
    "subtitle: Long title text GGGGG TTTT YYYY JJJJ .\n",
    "description: 'Pandas, Matplotlib, Numpy and Seaborn.'\n",
    "date: today\n",
    "author:\n",
    "  name: Wojtek Klimowicz\n",
    "  url: 'https://github-com/mypage'\n",
    "  affiliation: University of ...\n",
    "  affiliation-url: 'https://www.web.com/'\n",
    "institute: GGG-SSSS-MMMMM\n",
    "format: \n",
    "  beamer: \n",
    "    aspectratio: 32\n",
    "    navigation: horizontal\n",
    "    theme: CambridgeUS\n",
    "    \n",
    "header-includes: \n",
    "  - \\setbeamertemplate{page number in head/foot}[totalframenumber]\n",
    "  - \\titlegraphic{\\includegraphics[width=0.4\\paperwidth]{des1.png}}\n",
    "  \n",
    "---"
   ]
  },
  {
   "cell_type": "code",
   "execution_count": null,
   "id": "ba739459",
   "metadata": {},
   "outputs": [],
   "source": []
  }
 ],
 "metadata": {
  "kernelspec": {
   "display_name": "Python 3 (ipykernel)",
   "language": "python",
   "name": "python3"
  },
  "language_info": {
   "codemirror_mode": {
    "name": "ipython",
    "version": 3
   },
   "file_extension": ".py",
   "mimetype": "text/x-python",
   "name": "python",
   "nbconvert_exporter": "python",
   "pygments_lexer": "ipython3",
   "version": "3.9.0"
  }
 },
 "nbformat": 4,
 "nbformat_minor": 5
}
